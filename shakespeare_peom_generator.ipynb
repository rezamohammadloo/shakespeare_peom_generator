{
  "nbformat": 4,
  "nbformat_minor": 0,
  "metadata": {
    "colab": {
      "provenance": [],
      "gpuType": "T4",
      "authorship_tag": "ABX9TyMmiUBoR02DRiwrziyhatV4",
      "include_colab_link": true
    },
    "kernelspec": {
      "name": "python3",
      "display_name": "Python 3"
    },
    "language_info": {
      "name": "python"
    },
    "accelerator": "GPU"
  },
  "cells": [
    {
      "cell_type": "markdown",
      "metadata": {
        "id": "view-in-github",
        "colab_type": "text"
      },
      "source": [
        "<a href=\"https://colab.research.google.com/github/rezamohammadloo/shakespeare_peom_generator/blob/main/shakespeare_peom_generator.ipynb\" target=\"_parent\"><img src=\"https://colab.research.google.com/assets/colab-badge.svg\" alt=\"Open In Colab\"/></a>"
      ]
    },
    {
      "cell_type": "code",
      "execution_count": 1,
      "metadata": {
        "id": "rgBBeJQ0og-4"
      },
      "outputs": [],
      "source": [
        "from tensorflow.keras.preprocessing.sequence import pad_sequences\n",
        "from tensorflow.keras.layers import Embedding, LSTM, Dense, Dropout, Bidirectional\n",
        "from tensorflow.keras.preprocessing.text import Tokenizer\n",
        "from tensorflow.keras.models import Sequential\n",
        "from tensorflow.keras.optimizers import Adam\n",
        "from tensorflow.keras import regularizers\n",
        "import tensorflow.keras.utils as ku\n",
        "import numpy as np"
      ]
    },
    {
      "cell_type": "code",
      "source": [
        "tokenizer = Tokenizer()\n",
        "!wget --no-check-certificate \\\n",
        "    https://storage.googleapis.com/learning-datasets/sonnets.txt \\\n",
        "    -O /tmp/sonnets.txt\n",
        "data = open('/tmp/sonnets.txt').read()\n",
        "\n",
        "corpus = data.lower().split(\"\\n\")\n",
        "\n",
        "\n",
        "tokenizer.fit_on_texts(corpus)\n",
        "total_words = len(tokenizer.word_index) + 1\n",
        "\n",
        "# create input sequences using list of tokens\n",
        "input_sequences = []\n",
        "for line in corpus:\n",
        "\ttoken_list = tokenizer.texts_to_sequences([line])[0]\n",
        "\tfor i in range(1, len(token_list)):\n",
        "\t\tn_gram_sequence = token_list[:i+1]\n",
        "\t\tinput_sequences.append(n_gram_sequence)\n"
      ],
      "metadata": {
        "colab": {
          "base_uri": "https://localhost:8080/"
        },
        "id": "0w6zrhexohz5",
        "outputId": "c4a87f49-8f6d-4605-e8e6-72ced0c66f15"
      },
      "execution_count": 2,
      "outputs": [
        {
          "output_type": "stream",
          "name": "stdout",
          "text": [
            "--2024-01-09 05:12:32--  https://storage.googleapis.com/learning-datasets/sonnets.txt\n",
            "Resolving storage.googleapis.com (storage.googleapis.com)... 74.125.135.207, 74.125.142.207, 74.125.195.207, ...\n",
            "Connecting to storage.googleapis.com (storage.googleapis.com)|74.125.135.207|:443... connected.\n",
            "HTTP request sent, awaiting response... 200 OK\n",
            "Length: 93578 (91K) [text/plain]\n",
            "Saving to: ‘/tmp/sonnets.txt’\n",
            "\n",
            "\r/tmp/sonnets.txt      0%[                    ]       0  --.-KB/s               \r/tmp/sonnets.txt    100%[===================>]  91.38K  --.-KB/s    in 0.001s  \n",
            "\n",
            "2024-01-09 05:12:32 (97.4 MB/s) - ‘/tmp/sonnets.txt’ saved [93578/93578]\n",
            "\n"
          ]
        }
      ]
    },
    {
      "cell_type": "code",
      "source": [
        "# pad sequences\n",
        "max_sequence_len = max([len(x) for x in input_sequences])\n",
        "input_sequences = np.array(pad_sequences(input_sequences, maxlen=max_sequence_len, padding='pre'))\n",
        "\n",
        "# create predictors and label\n",
        "predictors, label = input_sequences[:,:-1],input_sequences[:,-1]\n",
        "\n",
        "label = ku.to_categorical(label, num_classes=total_words)\n",
        ""
      ],
      "metadata": {
        "id": "SuVuGXIeom1p"
      },
      "execution_count": 3,
      "outputs": []
    },
    {
      "cell_type": "code",
      "source": [
        "model = Sequential()\n",
        "model.add(Embedding(total_words, 100, input_length=max_sequence_len-1))\n",
        "model.add(Bidirectional(LSTM(150, return_sequences = True)))\n",
        "model.add(Dropout(0.2))\n",
        "model.add(LSTM(100))\n",
        "model.add(Dense(total_words/2, activation='relu', kernel_regularizer=regularizers.l2(0.01)))\n",
        "model.add(Dense(total_words, activation='softmax'))\n",
        "model.compile(loss='categorical_crossentropy', optimizer='adam', metrics=['accuracy'])\n",
        "print(model.summary())"
      ],
      "metadata": {
        "colab": {
          "base_uri": "https://localhost:8080/"
        },
        "id": "fxpLI2OMoy7Y",
        "outputId": "bc8d8939-c04a-4d18-ff39-3343f51d63e6"
      },
      "execution_count": 4,
      "outputs": [
        {
          "output_type": "stream",
          "name": "stdout",
          "text": [
            "Model: \"sequential\"\n",
            "_________________________________________________________________\n",
            " Layer (type)                Output Shape              Param #   \n",
            "=================================================================\n",
            " embedding (Embedding)       (None, 10, 100)           321100    \n",
            "                                                                 \n",
            " bidirectional (Bidirection  (None, 10, 300)           301200    \n",
            " al)                                                             \n",
            "                                                                 \n",
            " dropout (Dropout)           (None, 10, 300)           0         \n",
            "                                                                 \n",
            " lstm_1 (LSTM)               (None, 100)               160400    \n",
            "                                                                 \n",
            " dense (Dense)               (None, 1605)              162105    \n",
            "                                                                 \n",
            " dense_1 (Dense)             (None, 3211)              5156866   \n",
            "                                                                 \n",
            "=================================================================\n",
            "Total params: 6101671 (23.28 MB)\n",
            "Trainable params: 6101671 (23.28 MB)\n",
            "Non-trainable params: 0 (0.00 Byte)\n",
            "_________________________________________________________________\n",
            "None\n"
          ]
        }
      ]
    },
    {
      "cell_type": "code",
      "source": [
        "history = model.fit(predictors, label, epochs=100, verbose=1)\n",
        "\n",
        ""
      ],
      "metadata": {
        "colab": {
          "base_uri": "https://localhost:8080/"
        },
        "id": "OD4WT_RNo1r0",
        "outputId": "27653250-042b-4d7c-e318-abf7b4f66733"
      },
      "execution_count": 5,
      "outputs": [
        {
          "output_type": "stream",
          "name": "stdout",
          "text": [
            "Epoch 1/100\n",
            "484/484 [==============================] - 23s 28ms/step - loss: 6.9105 - accuracy: 0.0215\n",
            "Epoch 2/100\n",
            "484/484 [==============================] - 9s 19ms/step - loss: 6.4981 - accuracy: 0.0210\n",
            "Epoch 3/100\n",
            "484/484 [==============================] - 5s 10ms/step - loss: 6.3873 - accuracy: 0.0265\n",
            "Epoch 4/100\n",
            "484/484 [==============================] - 7s 15ms/step - loss: 6.2666 - accuracy: 0.0296\n",
            "Epoch 5/100\n",
            "484/484 [==============================] - 5s 9ms/step - loss: 6.1778 - accuracy: 0.0363\n",
            "Epoch 6/100\n",
            "484/484 [==============================] - 5s 11ms/step - loss: 6.0990 - accuracy: 0.0385\n",
            "Epoch 7/100\n",
            "484/484 [==============================] - 5s 11ms/step - loss: 6.0215 - accuracy: 0.0404\n",
            "Epoch 8/100\n",
            "484/484 [==============================] - 5s 10ms/step - loss: 5.9418 - accuracy: 0.0448\n",
            "Epoch 9/100\n",
            "484/484 [==============================] - 5s 11ms/step - loss: 5.8384 - accuracy: 0.0492\n",
            "Epoch 10/100\n",
            "484/484 [==============================] - 5s 9ms/step - loss: 5.7275 - accuracy: 0.0571\n",
            "Epoch 11/100\n",
            "484/484 [==============================] - 5s 10ms/step - loss: 5.6158 - accuracy: 0.0631\n",
            "Epoch 12/100\n",
            "484/484 [==============================] - 5s 11ms/step - loss: 5.5057 - accuracy: 0.0664\n",
            "Epoch 13/100\n",
            "484/484 [==============================] - 5s 9ms/step - loss: 5.3968 - accuracy: 0.0741\n",
            "Epoch 14/100\n",
            "484/484 [==============================] - 5s 11ms/step - loss: 5.2863 - accuracy: 0.0791\n",
            "Epoch 15/100\n",
            "484/484 [==============================] - 5s 9ms/step - loss: 5.1761 - accuracy: 0.0885\n",
            "Epoch 16/100\n",
            "484/484 [==============================] - 4s 9ms/step - loss: 5.0648 - accuracy: 0.1004\n",
            "Epoch 17/100\n",
            "484/484 [==============================] - 5s 11ms/step - loss: 4.9656 - accuracy: 0.1044\n",
            "Epoch 18/100\n",
            "484/484 [==============================] - 4s 9ms/step - loss: 4.8561 - accuracy: 0.1165\n",
            "Epoch 19/100\n",
            "484/484 [==============================] - 5s 9ms/step - loss: 4.7392 - accuracy: 0.1267\n",
            "Epoch 20/100\n",
            "484/484 [==============================] - 5s 11ms/step - loss: 4.6336 - accuracy: 0.1402\n",
            "Epoch 21/100\n",
            "484/484 [==============================] - 4s 9ms/step - loss: 4.5290 - accuracy: 0.1464\n",
            "Epoch 22/100\n",
            "484/484 [==============================] - 5s 11ms/step - loss: 4.4143 - accuracy: 0.1601\n",
            "Epoch 23/100\n",
            "484/484 [==============================] - 5s 10ms/step - loss: 4.3041 - accuracy: 0.1738\n",
            "Epoch 24/100\n",
            "484/484 [==============================] - 4s 9ms/step - loss: 4.1973 - accuracy: 0.1864\n",
            "Epoch 25/100\n",
            "484/484 [==============================] - 5s 11ms/step - loss: 4.0845 - accuracy: 0.1974\n",
            "Epoch 26/100\n",
            "484/484 [==============================] - 5s 9ms/step - loss: 3.9735 - accuracy: 0.2123\n",
            "Epoch 27/100\n",
            "484/484 [==============================] - 4s 9ms/step - loss: 3.8769 - accuracy: 0.2277\n",
            "Epoch 28/100\n",
            "484/484 [==============================] - 5s 10ms/step - loss: 3.7618 - accuracy: 0.2466\n",
            "Epoch 29/100\n",
            "484/484 [==============================] - 4s 9ms/step - loss: 3.6615 - accuracy: 0.2638\n",
            "Epoch 30/100\n",
            "484/484 [==============================] - 5s 10ms/step - loss: 3.5773 - accuracy: 0.2831\n",
            "Epoch 31/100\n",
            "484/484 [==============================] - 5s 10ms/step - loss: 3.4780 - accuracy: 0.3027\n",
            "Epoch 32/100\n",
            "484/484 [==============================] - 5s 10ms/step - loss: 3.3852 - accuracy: 0.3184\n",
            "Epoch 33/100\n",
            "484/484 [==============================] - 6s 11ms/step - loss: 3.2911 - accuracy: 0.3404\n",
            "Epoch 34/100\n",
            "484/484 [==============================] - 5s 9ms/step - loss: 3.1994 - accuracy: 0.3650\n",
            "Epoch 35/100\n",
            "484/484 [==============================] - 4s 9ms/step - loss: 3.1148 - accuracy: 0.3830\n",
            "Epoch 36/100\n",
            "484/484 [==============================] - 5s 10ms/step - loss: 3.0326 - accuracy: 0.4027\n",
            "Epoch 37/100\n",
            "484/484 [==============================] - 4s 9ms/step - loss: 2.9596 - accuracy: 0.4161\n",
            "Epoch 38/100\n",
            "484/484 [==============================] - 5s 10ms/step - loss: 2.8810 - accuracy: 0.4356\n",
            "Epoch 39/100\n",
            "484/484 [==============================] - 5s 10ms/step - loss: 2.8051 - accuracy: 0.4543\n",
            "Epoch 40/100\n",
            "484/484 [==============================] - 4s 9ms/step - loss: 2.7423 - accuracy: 0.4667\n",
            "Epoch 41/100\n",
            "484/484 [==============================] - 5s 11ms/step - loss: 2.6677 - accuracy: 0.4805\n",
            "Epoch 42/100\n",
            "484/484 [==============================] - 4s 9ms/step - loss: 2.6064 - accuracy: 0.5011\n",
            "Epoch 43/100\n",
            "484/484 [==============================] - 4s 9ms/step - loss: 2.5386 - accuracy: 0.5179\n",
            "Epoch 44/100\n",
            "484/484 [==============================] - 5s 11ms/step - loss: 2.4754 - accuracy: 0.5323\n",
            "Epoch 45/100\n",
            "484/484 [==============================] - 5s 9ms/step - loss: 2.4195 - accuracy: 0.5415\n",
            "Epoch 46/100\n",
            "484/484 [==============================] - 5s 10ms/step - loss: 2.3796 - accuracy: 0.5513\n",
            "Epoch 47/100\n",
            "484/484 [==============================] - 5s 10ms/step - loss: 2.3116 - accuracy: 0.5635\n",
            "Epoch 48/100\n",
            "484/484 [==============================] - 5s 9ms/step - loss: 2.2621 - accuracy: 0.5760\n",
            "Epoch 49/100\n",
            "484/484 [==============================] - 5s 11ms/step - loss: 2.2115 - accuracy: 0.5889\n",
            "Epoch 50/100\n",
            "484/484 [==============================] - 5s 10ms/step - loss: 2.1535 - accuracy: 0.6030\n",
            "Epoch 51/100\n",
            "484/484 [==============================] - 4s 9ms/step - loss: 2.1191 - accuracy: 0.6085\n",
            "Epoch 52/100\n",
            "484/484 [==============================] - 5s 11ms/step - loss: 2.0705 - accuracy: 0.6206\n",
            "Epoch 53/100\n",
            "484/484 [==============================] - 4s 9ms/step - loss: 2.0261 - accuracy: 0.6303\n",
            "Epoch 54/100\n",
            "484/484 [==============================] - 6s 12ms/step - loss: 1.9775 - accuracy: 0.6389\n",
            "Epoch 55/100\n",
            "484/484 [==============================] - 9s 18ms/step - loss: 1.9510 - accuracy: 0.6502\n",
            "Epoch 56/100\n",
            "484/484 [==============================] - 5s 10ms/step - loss: 1.9159 - accuracy: 0.6528\n",
            "Epoch 57/100\n",
            "484/484 [==============================] - 5s 10ms/step - loss: 1.8710 - accuracy: 0.6669\n",
            "Epoch 58/100\n",
            "484/484 [==============================] - 5s 10ms/step - loss: 1.8356 - accuracy: 0.6713\n",
            "Epoch 59/100\n",
            "484/484 [==============================] - 6s 12ms/step - loss: 1.7933 - accuracy: 0.6806\n",
            "Epoch 60/100\n",
            "484/484 [==============================] - 5s 10ms/step - loss: 1.7693 - accuracy: 0.6879\n",
            "Epoch 61/100\n",
            "484/484 [==============================] - 6s 11ms/step - loss: 1.7457 - accuracy: 0.6892\n",
            "Epoch 62/100\n",
            "484/484 [==============================] - 5s 10ms/step - loss: 1.7098 - accuracy: 0.7008\n",
            "Epoch 63/100\n",
            "484/484 [==============================] - 5s 9ms/step - loss: 1.6781 - accuracy: 0.7056\n",
            "Epoch 64/100\n",
            "484/484 [==============================] - 5s 11ms/step - loss: 1.6492 - accuracy: 0.7123\n",
            "Epoch 65/100\n",
            "484/484 [==============================] - 5s 9ms/step - loss: 1.6231 - accuracy: 0.7143\n",
            "Epoch 66/100\n",
            "484/484 [==============================] - 5s 10ms/step - loss: 1.5988 - accuracy: 0.7194\n",
            "Epoch 67/100\n",
            "484/484 [==============================] - 5s 11ms/step - loss: 1.5730 - accuracy: 0.7287\n",
            "Epoch 68/100\n",
            "484/484 [==============================] - 5s 9ms/step - loss: 1.5427 - accuracy: 0.7313\n",
            "Epoch 69/100\n",
            "484/484 [==============================] - 5s 11ms/step - loss: 1.5253 - accuracy: 0.7354\n",
            "Epoch 70/100\n",
            "484/484 [==============================] - 5s 9ms/step - loss: 1.5098 - accuracy: 0.7384\n",
            "Epoch 71/100\n",
            "484/484 [==============================] - 4s 9ms/step - loss: 1.4833 - accuracy: 0.7438\n",
            "Epoch 72/100\n",
            "484/484 [==============================] - 6s 13ms/step - loss: 1.4551 - accuracy: 0.7485\n",
            "Epoch 73/100\n",
            "484/484 [==============================] - 5s 10ms/step - loss: 1.4357 - accuracy: 0.7543\n",
            "Epoch 74/100\n",
            "484/484 [==============================] - 5s 10ms/step - loss: 1.4263 - accuracy: 0.7542\n",
            "Epoch 75/100\n",
            "484/484 [==============================] - 5s 10ms/step - loss: 1.4073 - accuracy: 0.7585\n",
            "Epoch 76/100\n",
            "484/484 [==============================] - 4s 9ms/step - loss: 1.3849 - accuracy: 0.7624\n",
            "Epoch 77/100\n",
            "484/484 [==============================] - 5s 11ms/step - loss: 1.3514 - accuracy: 0.7670\n",
            "Epoch 78/100\n",
            "484/484 [==============================] - 5s 9ms/step - loss: 1.3445 - accuracy: 0.7694\n",
            "Epoch 79/100\n",
            "484/484 [==============================] - 4s 9ms/step - loss: 1.3328 - accuracy: 0.7701\n",
            "Epoch 80/100\n",
            "484/484 [==============================] - 5s 11ms/step - loss: 1.3113 - accuracy: 0.7769\n",
            "Epoch 81/100\n",
            "484/484 [==============================] - 5s 11ms/step - loss: 1.2906 - accuracy: 0.7817\n",
            "Epoch 82/100\n",
            "484/484 [==============================] - 5s 10ms/step - loss: 1.2904 - accuracy: 0.7775\n",
            "Epoch 83/100\n",
            "484/484 [==============================] - 5s 10ms/step - loss: 1.2778 - accuracy: 0.7810\n",
            "Epoch 84/100\n",
            "484/484 [==============================] - 4s 9ms/step - loss: 1.2565 - accuracy: 0.7843\n",
            "Epoch 85/100\n",
            "484/484 [==============================] - 5s 11ms/step - loss: 1.2384 - accuracy: 0.7875\n",
            "Epoch 86/100\n",
            "484/484 [==============================] - 5s 9ms/step - loss: 1.2315 - accuracy: 0.7879\n",
            "Epoch 87/100\n",
            "484/484 [==============================] - 4s 9ms/step - loss: 1.2161 - accuracy: 0.7909\n",
            "Epoch 88/100\n",
            "484/484 [==============================] - 5s 11ms/step - loss: 1.2272 - accuracy: 0.7871\n",
            "Epoch 89/100\n",
            "484/484 [==============================] - 4s 9ms/step - loss: 1.2008 - accuracy: 0.7934\n",
            "Epoch 90/100\n",
            "484/484 [==============================] - 5s 10ms/step - loss: 1.1769 - accuracy: 0.7967\n",
            "Epoch 91/100\n",
            "484/484 [==============================] - 5s 10ms/step - loss: 1.1657 - accuracy: 0.7999\n",
            "Epoch 92/100\n",
            "484/484 [==============================] - 4s 9ms/step - loss: 1.1564 - accuracy: 0.8031\n",
            "Epoch 93/100\n",
            "484/484 [==============================] - 5s 11ms/step - loss: 1.1533 - accuracy: 0.7996\n",
            "Epoch 94/100\n",
            "484/484 [==============================] - 5s 9ms/step - loss: 1.1398 - accuracy: 0.8036\n",
            "Epoch 95/100\n",
            "484/484 [==============================] - 4s 9ms/step - loss: 1.1408 - accuracy: 0.8029\n",
            "Epoch 96/100\n",
            "484/484 [==============================] - 5s 11ms/step - loss: 1.1246 - accuracy: 0.8029\n",
            "Epoch 97/100\n",
            "484/484 [==============================] - 5s 9ms/step - loss: 1.1257 - accuracy: 0.8009\n",
            "Epoch 98/100\n",
            "484/484 [==============================] - 5s 9ms/step - loss: 1.1072 - accuracy: 0.8069\n",
            "Epoch 99/100\n",
            "484/484 [==============================] - 5s 10ms/step - loss: 1.0976 - accuracy: 0.8102\n",
            "Epoch 100/100\n",
            "484/484 [==============================] - 4s 9ms/step - loss: 1.0881 - accuracy: 0.8108\n"
          ]
        }
      ]
    },
    {
      "cell_type": "code",
      "source": [
        "import matplotlib.pyplot as plt\n",
        "acc = history.history['accuracy']\n",
        "loss = history.history['loss']\n",
        "\n",
        "epochs = range(len(acc))\n",
        "\n",
        "plt.plot(epochs, acc, 'b', label='Training accuracy')\n",
        "plt.title('Training accuracy')\n",
        "\n",
        "plt.figure()\n",
        "\n",
        "plt.plot(epochs, loss, 'b', label='Training Loss')\n",
        "plt.title('Training loss')\n",
        "plt.legend()\n",
        "\n",
        "plt.show()\n",
        ""
      ],
      "metadata": {
        "colab": {
          "base_uri": "https://localhost:8080/",
          "height": 887
        },
        "id": "RR4xui6Ro439",
        "outputId": "99a93690-d6f7-42d8-ead9-4c7b646c077e"
      },
      "execution_count": 6,
      "outputs": [
        {
          "output_type": "display_data",
          "data": {
            "text/plain": [
              "<Figure size 640x480 with 1 Axes>"
            ],
            "image/png": "[encoded data removed]"
          },
          "metadata": {}
        },
        {
          "output_type": "display_data",
          "data": {
            "text/plain": [
              "<Figure size 640x480 with 1 Axes>"
            ],
            "image/png": "[encoded data removed]"
          },
          "metadata": {}
        }
      ]
    },
    {
      "cell_type": "code",
      "source": [
        "# Define seed text\n",
        "#seed_text = \"Help me Obi Wan Kenobi, you're my only hope\"\n",
        "seed_text = \"you are my one and only\"\n",
        "# Define total words to predict\n",
        "next_words = 15\n",
        "\n",
        "# Loop until desired length is reached\n",
        "for _ in range(next_words):\n",
        "\n",
        "\t# Convert the seed text to a token sequence\n",
        "  token_list = tokenizer.texts_to_sequences([seed_text])[0]\n",
        "\n",
        "\t# Pad the sequence\n",
        "  token_list = pad_sequences([token_list], maxlen=max_sequence_len-1, padding='pre')\n",
        "\n",
        "\t# Feed to the model and get the probabilities for each index\n",
        "  probabilities = model.predict(token_list, verbose=0)\n",
        "\n",
        "  # Pick a random number from [1,2,3]\n",
        "  choice = np.random.choice([1,2,3])\n",
        "\n",
        "  # Sort the probabilities in ascending order\n",
        "  # and get the random choice from the end of the array\n",
        "  predicted = np.argsort(probabilities)[0][-choice]\n",
        "\n",
        "\t# Ignore if index is 0 because that is just the padding.\n",
        "  if predicted != 0:\n",
        "\n",
        "\t\t# Look up the word associated with the index.\n",
        "\t  output_word = tokenizer.index_word[predicted]\n",
        "\n",
        "\t\t# Combine with the seed text\n",
        "\t  seed_text += \" \" + output_word\n",
        "\n",
        "# Print the result\n",
        "print(seed_text)"
      ],
      "metadata": {
        "colab": {
          "base_uri": "https://localhost:8080/"
        },
        "id": "UTlz-ZCMsm3N",
        "outputId": "5ae17ce5-ef97-4e9d-bf6f-fb4280372c75"
      },
      "execution_count": 10,
      "outputs": [
        {
          "output_type": "stream",
          "name": "stdout",
          "text": [
            "you are my one and only i make love told foes common friend so die to die give me spend lie\n"
          ]
        }
      ]
    },
    {
      "cell_type": "code",
      "source": [],
      "metadata": {
        "id": "gR1WOWa2rVny"
      },
      "execution_count": null,
      "outputs": []
    }
  ]
}